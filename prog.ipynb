{
 "cells": [
  {
   "cell_type": "code",
   "execution_count": 1,
   "metadata": {},
   "outputs": [],
   "source": [
    "# /*==========================================================================================*\\\n",
    "# **                        _           _ _   _     _  _         _                            **\n",
    "# **                       | |__  _   _/ | |_| |__ | || |  _ __ | |__                         **\n",
    "# **                       | '_ \\| | | | | __| '_ \\| || |_| '_ \\| '_ \\                        **\n",
    "# **                       | |_) | |_| | | |_| | | |__   _| | | | | | |                       **\n",
    "# **                       |_.__/ \\__,_|_|\\__|_| |_|  |_| |_| |_|_| |_|                       **\n",
    "# \\*==========================================================================================*/\n",
    "\n",
    "\n",
    "# -----------------------------------------------------------------------------------------------\n",
    "# Author: Bùi Tiến Thành (@bu1th4nh)\n",
    "# Title: prog.ipynb\n",
    "# Date: 2024/09/24 09:51:39\n",
    "# Description: Test lab for SSXONMF\n",
    "# \n",
    "# (c) bu1th4nh. All rights reserved\n",
    "# -----------------------------------------------------------------------------------------------\n",
    "\n",
    "\n",
    "import numpy as np\n",
    "import pandas as pd\n",
    "from crossOmicNMF import SimilarSampleCrossOmicNMF\n",
    "import logging\n",
    "from log_config import initialize_logging\n",
    "\n",
    "np.set_printoptions(edgeitems=30, linewidth=100000, \n",
    "formatter=dict(float=lambda x: \"%.03f\" % x))\n",
    "\n",
    "initialize_logging()"
   ]
  },
  {
   "cell_type": "code",
   "execution_count": 2,
   "metadata": {},
   "outputs": [
    {
     "name": "stdout",
     "output_type": "stream",
     "text": [
      "(10482, 830)\n",
      "(277, 830)\n",
      "(10482, 277)\n"
     ]
    }
   ],
   "source": [
    "DATA_PATH = '/home/ti514716/Datasets/BreastCancer'\n",
    "\n",
    "bipart_data = pd.read_parquet(f'{DATA_PATH}/processed_crossOmics/bipart.parquet')\n",
    "clinical = pd.read_parquet(f'{DATA_PATH}/processed_crossOmics/clinical.parquet')\n",
    "miRNA = pd.read_parquet(f'{DATA_PATH}/processed_crossOmics/miRNA.parquet')\n",
    "mRNA = pd.read_parquet(f'{DATA_PATH}/processed_crossOmics/mRNA.parquet')\n",
    "\n",
    "print(mRNA.shape)\n",
    "print(miRNA.shape)\n",
    "print(bipart_data.shape)"
   ]
  },
  {
   "cell_type": "code",
   "execution_count": 3,
   "metadata": {},
   "outputs": [
    {
     "name": "stdout",
     "output_type": "stream",
     "text": [
      "[(10482, 830), (277, 830)]\n"
     ]
    }
   ],
   "source": [
    "omics_data = [np.array(mRNA.values, dtype=np.float64), np.array(miRNA.values, dtype=np.float64)]\n",
    "off_diag_interactions = {\n",
    "    (0, 1): np.array(bipart_data.values, dtype=np.float64)\n",
    "}\n",
    "\n",
    "m = [omic.shape[0] for omic in omics_data]\n",
    "print([omic.shape for omic in omics_data])"
   ]
  },
  {
   "cell_type": "code",
   "execution_count": 4,
   "metadata": {},
   "outputs": [
    {
     "name": "stdout",
     "output_type": "stream",
     "text": [
      "\u001b[36m2024/09/24 18:15:57.585 \u001b[32m[INFO]\u001b[0m \u001b[97mInitialized CrossOmicDataInt with 2 omics layers, 830 samples, 10759 features, 10 clusters, alpha=0.1, betas=0.1, gammas=0.1, max_iter=100000, tol=0.0001\u001b[0m \u001b[34m(__init__.py:134)\u001b[0m\n"
     ]
    }
   ],
   "source": [
    "MODEL = SimilarSampleCrossOmicNMF(\n",
    "    omics_layers=omics_data,\n",
    "    cross_omics_interaction=off_diag_interactions,\n",
    "    k=10,\n",
    "    alpha=0.1,\n",
    "    betas=0.1,\n",
    "    gammas=0.1,\n",
    "    max_iter=100000,\n",
    "    tol=1e-4,\n",
    "    verbose=True\n",
    ")"
   ]
  },
  {
   "cell_type": "code",
   "execution_count": 11,
   "metadata": {},
   "outputs": [
    {
     "name": "stdout",
     "output_type": "stream",
     "text": [
      "Zero features for mRNA:\n",
      "All zeros: DAZ3\n",
      "All zeros: TSSK2\n",
      "Zero features for miRNA:\n"
     ]
    }
   ],
   "source": [
    "# Ariel = [\n",
    "#     [1, 69, 1, 1, 1],\n",
    "#     [1, 0, 1, 1, 1],\n",
    "#     [0, 0, 0, 1, 1],\n",
    "#     [1, 0, 0, 0, 1],\n",
    "#     [1, 0, 0, 0, 12],\n",
    "# ]\n",
    "\n",
    "divi, normed = MODEL.PrenormalizeDebug(mRNA)\n",
    "\n",
    "\n",
    "print(\"Zero features for mRNA:\")\n",
    "for feature in mRNA.index:\n",
    "    if(np.all(mRNA.loc[feature].values == 0)):\n",
    "        print(f'All zeros: {feature}')\n",
    "\n",
    "print(\"Zero features for miRNA:\")\n",
    "for feature in miRNA.index:\n",
    "    if(np.all(miRNA.loc[feature].values == 0)):\n",
    "        print(f'All zeros: {feature}')\n"
   ]
  },
  {
   "cell_type": "code",
   "execution_count": 6,
   "metadata": {},
   "outputs": [],
   "source": [
    "# Content and code by bu1th4nh. Written with dedication in the University of Central Florida and the Magic Kingdom.\n",
    "# Powered, inspired and motivated by EDM, Counter-Strike and Disney Princesses. \n",
    "# Image credit: https://emojicombos.com/little-mermaid-text-art\n",
    "#                                                                                                           \n",
    "#                                                          ⡀⣰    \n",
    "#                                                         ⣰⡿⠃    \n",
    "#                                                        ⣼⣿⣧⠏    \n",
    "#                                                       ⣰⣿⠟⠋     \n",
    "#                                                       ⣿⡿       \n",
    "#                                                      ⣸⣿⡇       \n",
    "#                                        ⣀⣴⣾⣿         ⢰⣿⣿⡇       \n",
    "#                                    ⢀⣠⣾⣿⣿⣿⣿⡏         ⣼⣿⣿        \n",
    "#                                   ⣠⣿⣿⣿⣿⣿⣿⣿⣤        ⢠⣿⣿⠇        \n",
    "#                                  ⣼⣿⣿⣿⣿⣿⣿⣿⣿⣿⣷⣶⡄    ⢀⣾⣿⣿         \n",
    "#                                 ⣼⣿⣿⣿⣿⣿⣿⣿⣿⣿⣿⣿⣿⣿⠄  ⣤⣾⣿⡟⠁         \n",
    "#                                ⢠⣿⣿⣿⣿⣿⣿⣿⣿⣿⣿⣿⣿⡏⠁⢀⣴⣾⣿⣿⠏           \n",
    "#                             ⣀⣀⣴⣿⣿⣿⣿⣿⣿⣿⣿⣿⣿⣿⣿⣿⣧⣴⣿⣿⣿⠿⠁            \n",
    "#                       ⣀⣤⣶⣿⣿⣿⣿⣿⣿⣿⣿⣿⣿⣿⣿⣿⣿⣿⣿⣿⣿⣿⣿⣿⣿⣿⡏              \n",
    "#                     ⣠⣾⣿⣿⣿⣿⣿⣿⣿⣿⣿⣿⣿⣿⣿⣿⣿⣿⣿⣿⣿⣿⣿⣿⣿⣿⣿⣿⣄              \n",
    "#                    ⢠⣿⣿⣿⣿⣿⣿⣿⣿⣿⣿⣿⣿⣿⣿⣿⣿⣿⣿⣿⣿⣿⣿⣿⣿⣿⣿⣿⣿⣿⣷⡄            \n",
    "#                    ⣾⣿⣿⣿⠿⣻⣿⣿⣿⣿⣿⣿⣿⣿⣿⣿⣿⣿⣿⣿⣿⣿⣿⣿⣿⣿⣿⣿⣿⣿⣿⡇            \n",
    "#                   ⣸⣿⡿⠉⣠⣾⣿⣿⣿⣿⣿⣿⣿⣿⣿⣿⣿⣿⣿⡿⠟⠉⢿⣿⣿⣿⣿⣿⣿⣿⣿⠟⠁            \n",
    "#               ⠠⣤⣴⣾⡿⠋ ⣼⣿⣿⣿⢟⣿⣿⠏⢰⣿⡿⠟⢻⣿⣿⡿   ⠈⢿⣿⣿⣿⣿⣿⣿⠏              \n",
    "#                     ⣼⣿⣿⡟⠁⣸⡿⠁ ⠘⠋⣀⣴⣿⣿⠟    ⢀⣼⣿⣿⣿⣿⣿⠃               \n",
    "#                  ⢠⣴⣾⣿⠿⠋ ⠐⠋   ⢀⣾⣿⣿⡿⠋   ⣠⣴⣾⣿⣿⣿⣿⣿⠃                \n",
    "#                            ⢀⣴⣿⡿⠛⠉   ⣠⣾⣿⣿⣿⣿⣿⣿⣿⣿                 \n",
    "#                          ⢠⣶⡿⠋⠁    ⢠⣾⣿⣿⣿⣿⣿⣿⣿⣿⣿⣿⡆                \n",
    "#                         ⣠⣿⣿⡇     ⢰⣿⣿⣿⣿⣿⣿⣿⣿⣿⣿⣿⣿⡇                \n",
    "#                       ⠴⣿⣿⠋⡿⠁    ⢀⣿⣿⣿⣿⣿⣿⣿⣿⣿⣿⣿⣿⣿⠁                \n",
    "#                        ⠿⠏       ⣼⣿⣿⣿⣿⣿⣿⣿⣿⣿⣿⣿⣿⡏                 \n",
    "#                                ⢀⣿⣿⣿⣿⣿⣿⣿⣿⣿⣿⣿⣿⡟                  \n",
    "#                                ⣸⣿⣿⣿⣿⣿⣿⣿⣿⣿⣿⣿⡟                   \n",
    "#                               ⢠⣿⣿⣿⣿⣿⣿⣿⣿⣿⣿⣿⠋                    \n",
    "#                               ⣾⣿⣿⣿⣿⣿⣿⣿⣿⣿⠟⠁                     \n",
    "#                             ⢀⣾⣿⣿⣿⣿⣿⣿⣿⡿⠟                        \n",
    "#                           ⣀⣴⣿⣿⣿⣿⣿⣿⣿⠿⠋                          \n",
    "#                        ⣀⣤⣾⣿⣿⣿⣿⣿⡿⠟⠋                             \n",
    "#               ⣀⣀⣀⣠⣤⣤⣤⣶⣿⣿⣿⣿⡿⠿⠛⠋⠁                                \n",
    "#         ⢀⣠⣶⣶⣿⣿⣿⣿⣿⣿⣿⣿⠟⠛⠋⠉⠉                                      \n",
    "#       ⢀⣴⣿⣿⣿⣿⣿⣿⣿⣿⣿⣿⡿⠁                                           \n",
    "#      ⣠⣿⣿⣿⣿⣿⣿⣿⣿⣿⣿⣿⣿⣇                                            \n",
    "#     ⢠⣿⣿⣿⣿⣿⣿⡿⠟⠋⢠⣿⣿⣿⣿⣧                                           \n",
    "#     ⣼⣿⡿⠟⠋⠉    ⠸⣿⣿⣿⣿⣿⣧                                          \n",
    "#     ⣿⡟         ⣿⣿⣿⣿⣿⣿                                          \n",
    "#     ⠸⠇         ⣿⣿⣿⣿⣿⣿                                          \n",
    "#                ⢸⣿⣿⣿⣿⡟                                          \n",
    "#                ⣼⣿⣿⣿⠟                                           \n",
    "#               ⢀⣿⡿⠛⠁                                            \n",
    "#                                                                \n",
    "                                                                                                                                       \n"
   ]
  }
 ],
 "metadata": {
  "kernelspec": {
   "display_name": "CrossOmics",
   "language": "python",
   "name": "python3"
  },
  "language_info": {
   "codemirror_mode": {
    "name": "ipython",
    "version": 3
   },
   "file_extension": ".py",
   "mimetype": "text/x-python",
   "name": "python",
   "nbconvert_exporter": "python",
   "pygments_lexer": "ipython3",
   "version": "3.10.12"
  }
 },
 "nbformat": 4,
 "nbformat_minor": 2
}
