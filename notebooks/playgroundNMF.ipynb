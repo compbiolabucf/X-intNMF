{
 "cells": [
  {
   "cell_type": "code",
   "execution_count": 1,
   "metadata": {},
   "outputs": [],
   "source": [
    "# /*==========================================================================================*\\\n",
    "# **                        _           _ _   _     _  _         _                            **\n",
    "# **                       | |__  _   _/ | |_| |__ | || |  _ __ | |__                         **\n",
    "# **                       | '_ \\| | | | | __| '_ \\| || |_| '_ \\| '_ \\                        **\n",
    "# **                       | |_) | |_| | | |_| | | |__   _| | | | | | |                       **\n",
    "# **                       |_.__/ \\__,_|_|\\__|_| |_|  |_| |_| |_|_| |_|                       **\n",
    "# \\*==========================================================================================*/\n",
    "\n",
    "\n",
    "# -----------------------------------------------------------------------------------------------\n",
    "# Author: Bùi Tiến Thành (@bu1th4nh)\n",
    "# Title: playgroundNMF.ipynb\n",
    "# Date: 2024/09/16 15:53:52\n",
    "# Description: Testing lab for NMF\n",
    "# \n",
    "# (c) bu1th4nh. All rights reserved\n",
    "# -----------------------------------------------------------------------------------------------\n",
    "\n",
    "\n",
    "import seaborn as sns\n",
    "import numpy as np\n",
    "import pandas as pd\n",
    "import matplotlib.pyplot as plt\n",
    "\n",
    "\n",
    "DATA_PATH = '/home/ti514716/Datasets/BreastCancer'\n"
   ]
  },
  {
   "cell_type": "markdown",
   "metadata": {},
   "source": [
    "# Data Acquisition"
   ]
  },
  {
   "cell_type": "code",
   "execution_count": 2,
   "metadata": {},
   "outputs": [],
   "source": [
    "bipart_data = pd.read_parquet(f'{DATA_PATH}/processed_crossOmics/bipart.parquet')\n",
    "clinical = pd.read_parquet(f'{DATA_PATH}/processed_crossOmics/clinical.parquet')\n",
    "miRNA = pd.read_parquet(f'{DATA_PATH}/processed_crossOmics/miRNA.parquet')\n",
    "mRNA = pd.read_parquet(f'{DATA_PATH}/processed_crossOmics/mRNA.parquet')"
   ]
  },
  {
   "cell_type": "code",
   "execution_count": 4,
   "metadata": {},
   "outputs": [
    {
     "name": "stdout",
     "output_type": "stream",
     "text": [
      "(10480, 830)\n",
      "(277, 830)\n",
      "(10480, 277)\n",
      "(412, 4)\n"
     ]
    }
   ],
   "source": [
    "print(mRNA.shape)\n",
    "print(miRNA.shape)\n",
    "print(bipart_data.shape)\n",
    "print(clinical.shape)"
   ]
  },
  {
   "cell_type": "code",
   "execution_count": 9,
   "metadata": {},
   "outputs": [
    {
     "data": {
      "text/plain": [
       "239"
      ]
     },
     "execution_count": 9,
     "metadata": {},
     "output_type": "execute_result"
    }
   ],
   "source": [
    "sample = miRNA.columns\n",
    "common = set(sample).intersection(set(clinical.index))\n",
    "len(common)"
   ]
  },
  {
   "cell_type": "markdown",
   "metadata": {},
   "source": [
    "# NMF"
   ]
  },
  {
   "cell_type": "code",
   "execution_count": 6,
   "metadata": {},
   "outputs": [
    {
     "name": "stdout",
     "output_type": "stream",
     "text": [
      "Ariel aka mRNA shape: (10482, 830)\n",
      "W shape: (10482, 10)\n",
      "H shape: (10, 830)\n"
     ]
    },
    {
     "name": "stderr",
     "output_type": "stream",
     "text": [
      "/home/ti514716/Venvs/CrossOmics/lib/python3.10/site-packages/sklearn/decomposition/_nmf.py:1759: ConvergenceWarning: Maximum number of iterations 200 reached. Increase it to improve convergence.\n",
      "  warnings.warn(\n"
     ]
    }
   ],
   "source": [
    "# Resample\n",
    "import pandas as pd\n",
    "import numpy as np\n",
    "from sklearn.decomposition import NMF\n",
    "DATA_PATH = '/home/ti514716/Datasets/BreastCancer'\n",
    "Ariel = pd.read_parquet(f'{DATA_PATH}/processed_crossOmics/mRNA.parquet').values\n",
    "\n",
    "print(f'Ariel aka mRNA shape: {Ariel.shape}')\n",
    "\n",
    "model = NMF(n_components=10, init='nndsvd', alpha_W=1/np.sqrt(Ariel.shape[0]))\n",
    "\n",
    "W = model.fit_transform(Ariel)\n",
    "H = model.components_\n",
    "\n",
    "print(f'W shape: {W.shape}')\n",
    "print(f'H shape: {H.shape}')\n",
    "\n"
   ]
  },
  {
   "cell_type": "markdown",
   "metadata": {},
   "source": [
    "# Data EDA"
   ]
  },
  {
   "cell_type": "code",
   "execution_count": 13,
   "metadata": {},
   "outputs": [
    {
     "name": "stdout",
     "output_type": "stream",
     "text": [
      "Ariel aka mRNA shape: (10482, 830)\n",
      "Flattened Ariel aka mRNA shape: (10482, 1)\n"
     ]
    },
    {
     "data": {
      "text/plain": [
       "<Axes: ylabel='Count'>"
      ]
     },
     "execution_count": 13,
     "metadata": {},
     "output_type": "execute_result"
    },
    {
     "data": {
      "image/png": "[encoded data removed]",
      "text/plain": [
       "<Figure size 640x480 with 1 Axes>"
      ]
     },
     "metadata": {},
     "output_type": "display_data"
    }
   ],
   "source": [
    "# Resample\n",
    "import pandas as pd\n",
    "import numpy as np\n",
    "import seaborn as sns\n",
    "\n",
    "DATA_PATH = '/home/ti514716/Datasets/BreastCancer'\n",
    "Ariel = pd.read_parquet(f'{DATA_PATH}/processed_crossOmics/mRNA.parquet').values\n",
    "\n",
    "print(f'Ariel aka mRNA shape: {Ariel.shape}')\n",
    "Ariel_flatten = Ariel[:, np.random.choice(Ariel.shape[1], 1, replace=False)]\n",
    "print(f'Flattened Ariel aka mRNA shape: {Ariel_flatten.shape}')\n",
    "sns.histplot(Ariel_flatten, bins=100, kde=True)"
   ]
  }
 ],
 "metadata": {
  "kernelspec": {
   "display_name": "CrossOmics",
   "language": "python",
   "name": "python3"
  },
  "language_info": {
   "codemirror_mode": {
    "name": "ipython",
    "version": 3
   },
   "file_extension": ".py",
   "mimetype": "text/x-python",
   "name": "python",
   "nbconvert_exporter": "python",
   "pygments_lexer": "ipython3",
   "version": "3.10.12"
  }
 },
 "nbformat": 4,
 "nbformat_minor": 2
}
