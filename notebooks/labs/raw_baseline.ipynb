{
 "cells": [
  {
   "cell_type": "code",
   "execution_count": 24,
   "metadata": {},
   "outputs": [],
   "source": [
    "# /*==========================================================================================*\\\n",
    "# **                        _           _ _   _     _  _         _                            **\n",
    "# **                       | |__  _   _/ | |_| |__ | || |  _ __ | |__                         **\n",
    "# **                       | '_ \\| | | | | __| '_ \\| || |_| '_ \\| '_ \\                        **\n",
    "# **                       | |_) | |_| | | |_| | | |__   _| | | | | | |                       **\n",
    "# **                       |_.__/ \\__,_|_|\\__|_| |_|  |_| |_| |_|_| |_|                       **\n",
    "# \\*==========================================================================================*/\n",
    "\n",
    "\n",
    "# -----------------------------------------------------------------------------------------------\n",
    "# Author: Bùi Tiến Thành (@bu1th4nh)\n",
    "# Title: playground_classification.ipynb\n",
    "# Date: 2024/10/03 15:27:39\n",
    "# Description: \n",
    "# \n",
    "# (c) bu1th4nh. All rights reserved\n",
    "# -----------------------------------------------------------------------------------------------\n",
    "\n",
    "\n",
    "import numpy as np\n",
    "import pandas as pd\n",
    "import mlflow\n",
    "import random\n",
    "mlflow.set_tracking_uri(uri=\"http://127.0.0.1:6969\")\n",
    "mlflow.set_experiment(\"SimilarSampleCrossOmicNMF\")\n",
    "royals_name = ['snowwhite', 'cinderella', 'aurora', 'ariel', 'belle', 'jasmine', 'pocahontas', 'mulan', 'tiana', 'rapunzel', 'merida', 'moana', 'raya', 'anna', 'elsa', 'elena']\n",
    "\n",
    "\n",
    "# Not fixed gamma\n",
    "# Alpha = 2\n",
    "# run_name = 'ariel-elsa-aurora-20241002-15.12.43'\n",
    "# run_id = 'd4cf242b1a3540d5b2cb91dc52dbd991'\n",
    "\n",
    "# Alpha = 1\n",
    "# run_name = 'ariel-moana-mulan-20241002-23.32.36'\n",
    "# run_id = '1e2f0bbe6ada401aae9d027bcd0fa8b5'\n",
    "\n",
    "# Fixed gamma\n",
    "# run_name = 'merida-mulan-anna-20241003-08.56.41'\n",
    "# run_id = 'abc7d2cfd6d04ab7b48de90d24e8cfc4'\n",
    "\n",
    "# Baseline: NMF Only\n",
    "# run_name = 'rapunzel-rapunzel-ariel-20241006-10.23.03'\n",
    "# run_id = '7f933693ee25409c8fdb90b04a5a26b8'\n",
    "\n",
    "# Baseline: Raw\n",
    "\n",
    "\n",
    "run_name = f\"baseline_rawdata\"\n",
    "\n",
    "ORGL_PATH = '/home/ti514716/Datasets/BreastCancer/processed_crossOmics'\n",
    "RESULT_PATH = '/home/ti514716/Projects/SimilarSampleCrossOmicNMF/results/'"
   ]
  },
  {
   "cell_type": "markdown",
   "metadata": {},
   "source": [
    "## Data Acquisition & Merging"
   ]
  },
  {
   "cell_type": "code",
   "execution_count": 25,
   "metadata": {},
   "outputs": [
    {
     "data": {
      "text/html": [
       "<div>\n",
       "<style scoped>\n",
       "    .dataframe tbody tr th:only-of-type {\n",
       "        vertical-align: middle;\n",
       "    }\n",
       "\n",
       "    .dataframe tbody tr th {\n",
       "        vertical-align: top;\n",
       "    }\n",
       "\n",
       "    .dataframe thead th {\n",
       "        text-align: right;\n",
       "    }\n",
       "</style>\n",
       "<table border=\"1\" class=\"dataframe\">\n",
       "  <thead>\n",
       "    <tr style=\"text-align: right;\">\n",
       "      <th></th>\n",
       "      <th>ER</th>\n",
       "      <th>HER2</th>\n",
       "      <th>PR</th>\n",
       "      <th>TN</th>\n",
       "    </tr>\n",
       "    <tr>\n",
       "      <th>Sample</th>\n",
       "      <th></th>\n",
       "      <th></th>\n",
       "      <th></th>\n",
       "      <th></th>\n",
       "    </tr>\n",
       "  </thead>\n",
       "  <tbody>\n",
       "    <tr>\n",
       "      <th>TCGA-5T-A9QA-01</th>\n",
       "      <td>Positive</td>\n",
       "      <td>Negative</td>\n",
       "      <td>Negative</td>\n",
       "      <td>Negative</td>\n",
       "    </tr>\n",
       "    <tr>\n",
       "      <th>TCGA-A1-A0SE-01</th>\n",
       "      <td>Positive</td>\n",
       "      <td>Negative</td>\n",
       "      <td>Positive</td>\n",
       "      <td>Negative</td>\n",
       "    </tr>\n",
       "    <tr>\n",
       "      <th>TCGA-A1-A0SH-01</th>\n",
       "      <td>Negative</td>\n",
       "      <td>Negative</td>\n",
       "      <td>Positive</td>\n",
       "      <td>Negative</td>\n",
       "    </tr>\n",
       "    <tr>\n",
       "      <th>TCGA-A1-A0SJ-01</th>\n",
       "      <td>Positive</td>\n",
       "      <td>Negative</td>\n",
       "      <td>Positive</td>\n",
       "      <td>Negative</td>\n",
       "    </tr>\n",
       "    <tr>\n",
       "      <th>TCGA-A1-A0SM-01</th>\n",
       "      <td>Positive</td>\n",
       "      <td>Positive</td>\n",
       "      <td>Negative</td>\n",
       "      <td>Negative</td>\n",
       "    </tr>\n",
       "  </tbody>\n",
       "</table>\n",
       "</div>"
      ],
      "text/plain": [
       "                       ER      HER2        PR        TN\n",
       "Sample                                                 \n",
       "TCGA-5T-A9QA-01  Positive  Negative  Negative  Negative\n",
       "TCGA-A1-A0SE-01  Positive  Negative  Positive  Negative\n",
       "TCGA-A1-A0SH-01  Negative  Negative  Positive  Negative\n",
       "TCGA-A1-A0SJ-01  Positive  Negative  Positive  Negative\n",
       "TCGA-A1-A0SM-01  Positive  Positive  Negative  Negative"
      ]
     },
     "metadata": {},
     "output_type": "display_data"
    }
   ],
   "source": [
    "mRNA = pd.read_parquet(f'{ORGL_PATH}/mRNA.parquet')\n",
    "miRNA = pd.read_parquet(f'{ORGL_PATH}/miRNA.parquet')\n",
    "clinical = pd.read_parquet(f'{ORGL_PATH}/clinical.parquet')\n",
    "\n",
    "display(clinical.head())\n",
    "# display(mRNA.head())\n",
    "# display(miRNA.head())\n"
   ]
  },
  {
   "cell_type": "code",
   "execution_count": 26,
   "metadata": {},
   "outputs": [
    {
     "name": "stderr",
     "output_type": "stream",
     "text": [
      "2024/10/07 11:57:37 INFO mlflow.tracking._tracking_service.client: 🏃 View run baseline_rawdata at: http://127.0.0.1:6969/#/experiments/678921905688019087/runs/1099ecf20f2346a798c1a88869380e24.\n",
      "2024/10/07 11:57:37 INFO mlflow.tracking._tracking_service.client: 🧪 View experiment at: http://127.0.0.1:6969/#/experiments/678921905688019087.\n"
     ]
    }
   ],
   "source": [
    "common_samples = mRNA.columns.intersection(clinical.index)\n",
    "H = pd.concat([mRNA, miRNA], axis=0).T.copy(deep=True)\n",
    "\n",
    "import os\n",
    "if os.path.exists(f'{RESULT_PATH}/{run_name}') == False:\n",
    "    os.makedirs(f'{RESULT_PATH}/{run_name}')\n",
    "\n",
    "with mlflow.start_run(run_name = run_name):\n",
    "    H.to_parquet(f'{RESULT_PATH}/{run_name}/H.parquet')"
   ]
  }
 ],
 "metadata": {
  "kernelspec": {
   "display_name": "CrossOmics",
   "language": "python",
   "name": "python3"
  },
  "language_info": {
   "codemirror_mode": {
    "name": "ipython",
    "version": 3
   },
   "file_extension": ".py",
   "mimetype": "text/x-python",
   "name": "python",
   "nbconvert_exporter": "python",
   "pygments_lexer": "ipython3",
   "version": "3.10.12"
  }
 },
 "nbformat": 4,
 "nbformat_minor": 2
}
