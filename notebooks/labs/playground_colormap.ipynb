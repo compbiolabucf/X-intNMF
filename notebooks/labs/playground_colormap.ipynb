{
 "cells": [
  {
   "cell_type": "code",
   "execution_count": 2,
   "metadata": {},
   "outputs": [],
   "source": [
    "# /*==========================================================================================*\\\n",
    "# **                        _           _ _   _     _  _         _                            **\n",
    "# **                       | |__  _   _/ | |_| |__ | || |  _ __ | |__                         **\n",
    "# **                       | '_ \\| | | | | __| '_ \\| || |_| '_ \\| '_ \\                        **\n",
    "# **                       | |_) | |_| | | |_| | | |__   _| | | | | | |                       **\n",
    "# **                       |_.__/ \\__,_|_|\\__|_| |_|  |_| |_| |_|_| |_|                       **\n",
    "# \\*==========================================================================================*/\n",
    "\n",
    "\n",
    "# -----------------------------------------------------------------------------------------------\n",
    "# Author: Bùi Tiến Thành - Tien-Thanh Bui (@bu1th4nh)\n",
    "# Title: playground_data.ipynb\n",
    "# Date: 2024/11/07 14:39:32\n",
    "# Description: \n",
    "# \n",
    "# (c) 2024 bu1th4nh. All rights reserved. \n",
    "# Written with dedication in the University of Central Florida, EPCOT and the Magic Kingdom.\n",
    "# -----------------------------------------------------------------------------------------------\n",
    "\n",
    "from s3fs import S3FileSystem\n",
    "import numpy as np\n",
    "import pandas as pd \n",
    "import sys\n",
    "\n",
    "from matplotlib.colors import LinearSegmentedColormap\n",
    "sys.path.append('../../')\n",
    "\n",
    "import seaborn as sns\n",
    "import matplotlib.pyplot as plt\n",
    "\n",
    "import random\n",
    "\n",
    "from tqdm import tqdm\n",
    "from downstream.survival import surv_analysis\n",
    "\n",
    "plt.rcParams['font.family'] = 'Arial'\n",
    "\n",
    "key = 'bu1th4nh'\n",
    "secret = 'ariel.anna.elsa'\n",
    "endpoint_url = 'http://localhost:9000'\n",
    "\n",
    "s3 = S3FileSystem(\n",
    "    anon=False, \n",
    "    endpoint_url=endpoint_url,\n",
    "    key=key,\n",
    "    secret=secret,\n",
    "    use_ssl=False\n",
    ")\n",
    "storage_options = {\n",
    "    'key': key,\n",
    "    'secret': secret,\n",
    "    'endpoint_url': endpoint_url,\n",
    "}\n",
    "\n",
    "storage_option = storage_options\n",
    "DATA_PATH = 's3://datasets/LungCancer/processed_3_omics_mRNA_miRNA_methDNA'\n",
    "SURV_PATH = 's3://datasets/LungCancer/survivalanalysis_testdata_3_omics_mRNA_miRNA_methDNA'\n",
    "# DATA_PATH = 's3://datasets/LungCancer/processed_2_omics_mRNA_miRNA'\n",
    "# SURV_PATH = 's3://datasets/LungCancer/survivalanalysis_testdata_2_omics_mRNA_miRNA'\n",
    "\n",
    "methDNA_all = pd.read_parquet(f'{DATA_PATH}/methDNA.parquet', storage_options=storage_option)\n",
    "miRNA_all = pd.read_parquet(f'{DATA_PATH}/miRNA.parquet', storage_options=storage_option)\n",
    "mRNA_all = pd.read_parquet(f'{DATA_PATH}/mRNA.parquet', storage_options=storage_option)\n",
    "bipartite_all = pd.read_parquet(f'{DATA_PATH}/bipart.parquet', storage_options=storage_option)\n",
    "\n",
    "def select_top_features_by_variance(df, top_n=1000):\n",
    "    variances = df.var(axis=1)\n",
    "    top_features = variances.nlargest(top_n).index\n",
    "    return df.loc[top_features]"
   ]
  },
  {
   "cell_type": "code",
   "execution_count": 3,
   "metadata": {},
   "outputs": [
    {
     "data": {
      "image/png": "[encoded data removed]",
      "text/plain": [
       "<Figure size 600x400 with 9 Axes>"
      ]
     },
     "metadata": {},
     "output_type": "display_data"
    }
   ],
   "source": [
    "\n",
    "CinderellaCMAPBaseColor = ['#ffffff', '#d7eaf6','#b1def5','#8cc5e8','#3b8bbd','#286287']\n",
    "BelleCMAPBaseColor = ['#ffffff', '#ffefb5','#f7e4a6','#ffe67f','#f8d562','#f0be4d','#e3b348',]\n",
    "ArielGreenCMAPBaseColor = ['#ffffff', '#c6e8be', '#53b288', '#378d68']\n",
    "ArielPurpleCMAPBaseColor = ['#ffc4f6', '#a497c4', '#594597']\n",
    "AuroraPinkCMAPBaseColor = ['#ffffff', '#e5afcf', '#e387b8', '#d2487a']\n",
    "RapunzelCMAPBaseColor = ['#ffffff', '#fadee4', '#daafd2', '#9c8cbd', '#a06baf', '#8550a0']\n",
    "PocahontasCMAPBaseColor = ['#ffffff', '#f9e0ab', '#f7cb6c', '#da9740', '#c74e28']\n",
    "AnnaCMAPBaseColor = ['#a42384', '#1d318b', '#040a0a']\n",
    "ElsaCMAPBaseColor = ['#d5d9ea', '#82d4ed', '#3abae3', '#0c77a8']\n",
    "\n",
    "\n",
    "\n",
    "def create_custom_colormap(base_colors):\n",
    "    return LinearSegmentedColormap.from_list('custom_cmap', base_colors)\n",
    "\n",
    "CinderellaCMAP = create_custom_colormap(CinderellaCMAPBaseColor)\n",
    "BelleCMAP = create_custom_colormap(BelleCMAPBaseColor)\n",
    "ArielGreenCMAP = create_custom_colormap(ArielGreenCMAPBaseColor)\n",
    "ArielPurpleCMAP = create_custom_colormap(ArielPurpleCMAPBaseColor)\n",
    "AuroraPinkCMAP = create_custom_colormap(AuroraPinkCMAPBaseColor)\n",
    "RapunzelCMAP = create_custom_colormap(RapunzelCMAPBaseColor)\n",
    "PocahontasCMAP = create_custom_colormap(PocahontasCMAPBaseColor)\n",
    "AnnaCMAP = create_custom_colormap(AnnaCMAPBaseColor)\n",
    "ElsaCMAP = create_custom_colormap(ElsaCMAPBaseColor)\n",
    "\n",
    "\n",
    "# Create a matrix to display all colormaps\n",
    "color_matrix = np.linspace(0, 1, 100).reshape(1, -1)\n",
    "fig, axs = plt.subplots(9, 1, figsize=(6, 4))\n",
    "\n",
    "# Display all colormaps\n",
    "for idx, cmap in enumerate([CinderellaCMAP, BelleCMAP, ArielGreenCMAP, ArielPurpleCMAP, AuroraPinkCMAP, RapunzelCMAP, PocahontasCMAP, AnnaCMAP, ElsaCMAP]):\n",
    "    sns.heatmap(color_matrix, cmap=cmap, cbar=False, ax=axs[idx])\n",
    "    axs[idx].set_ylabel(['Cinderella', 'Belle', 'ArielGreen', 'ArielPurple', 'AuroraPink', 'Rapunzel', 'Pocahontas', 'Anna', 'Elsa'][idx], size=12)\n",
    "    axs[idx].yaxis.label.set(rotation='horizontal', ha='right');\n",
    "\n",
    "    axs[idx].set_xticks([])\n",
    "    axs[idx].set_yticks([])\n",
    "    axs[idx].set_frame_on(True)\n",
    "    for _, spine in axs[idx].spines.items():\n",
    "        spine.set_visible(True)\n",
    "\n",
    "\n",
    "\n",
    "plt.tight_layout()\n",
    "plt.show()"
   ]
  },
  {
   "cell_type": "code",
   "execution_count": 4,
   "metadata": {},
   "outputs": [],
   "source": [
    "FEATURE_SIZE = 5\n",
    "SAMPLES_SIZE = 8\n",
    "\n",
    "samples = random.sample(miRNA_all.columns.to_list(), SAMPLES_SIZE)\n",
    "\n",
    "miRNA = miRNA_all.loc[random.sample(miRNA_all.index.tolist(), FEATURE_SIZE), samples]\n",
    "mRNA = mRNA_all.loc[random.sample(mRNA_all.index.tolist(), FEATURE_SIZE), samples]\n",
    "methDNA = methDNA_all.loc[random.sample(methDNA_all.index.tolist(), FEATURE_SIZE), samples]\n",
    "bipart = bipartite_all.loc[mRNA.index, miRNA.index]"
   ]
  },
  {
   "cell_type": "markdown",
   "metadata": {},
   "source": [
    "### Corr colormap"
   ]
  },
  {
   "cell_type": "code",
   "execution_count": 116,
   "metadata": {},
   "outputs": [],
   "source": [
    "Jasmine = np.random.rand(3, 8)\n",
    "master_clr = CinderellaCMAP"
   ]
  },
  {
   "cell_type": "code",
   "execution_count": 117,
   "metadata": {},
   "outputs": [
    {
     "data": {
      "image/png": "[encoded data removed]",
      "text/plain": [
       "<Figure size 600x1600 with 1 Axes>"
      ]
     },
     "metadata": {},
     "output_type": "display_data"
    },
    {
     "data": {
      "image/png": "[encoded data removed]",
      "text/plain": [
       "<Figure size 600x1600 with 1 Axes>"
      ]
     },
     "metadata": {},
     "output_type": "display_data"
    }
   ],
   "source": [
    "fig, ax = plt.subplots(1, 1, figsize=(6, 16))\n",
    "sns.heatmap(Jasmine, cmap=master_clr, ax=ax, annot=False, square=True, linewidths=1, cbar=False)\n",
    "ax.tick_params(\n",
    "    axis='both',       # changes apply to the x-axis\n",
    "    which='both',      # both major and minor ticks are affected\n",
    "    bottom=False,      # ticks along the bottom edge are off\n",
    "    top=False,         # ticks along the top edge are off\n",
    "    left=False,        # ticks along the left edge are off\n",
    "    right=False,       # ticks along the right edge are off\n",
    "    labelbottom=False, # labels along the bottom edge are off\n",
    "    labelleft=False    # labels along the left edge are off\n",
    ")\n",
    "\n",
    "fig.tight_layout()\n",
    "fig.show()\n",
    "fig, ax = plt.subplots(1, 1, figsize=(6, 16))\n",
    "sns.heatmap(Jasmine > 0.5, cmap=master_clr, ax=ax, annot=False, square=True, linewidths=1, cbar=False)\n",
    "ax.tick_params(\n",
    "    axis='both',       # changes apply to the x-axis\n",
    "    which='both',      # both major and minor ticks are affected\n",
    "    bottom=False,      # ticks along the bottom edge are off\n",
    "    top=False,         # ticks along the top edge are off\n",
    "    left=False,        # ticks along the left edge are off\n",
    "    right=False,       # ticks along the right edge are off\n",
    "    labelbottom=False, # labels along the bottom edge are off\n",
    "    labelleft=False    # labels along the left edge are off\n",
    ")\n",
    "\n",
    "fig.tight_layout()\n",
    "fig.show()"
   ]
  },
  {
   "cell_type": "markdown",
   "metadata": {},
   "source": [
    "### Data colormap"
   ]
  },
  {
   "cell_type": "code",
   "execution_count": 118,
   "metadata": {},
   "outputs": [],
   "source": [
    "Jasmine = np.random.randint(2, size=(5, 5))\n",
    "master_clr = ArielPurpleCMAP"
   ]
  },
  {
   "cell_type": "code",
   "execution_count": 119,
   "metadata": {},
   "outputs": [
    {
     "data": {
      "image/png": "[encoded data removed]",
      "text/plain": [
       "<Figure size 500x500 with 1 Axes>"
      ]
     },
     "metadata": {},
     "output_type": "display_data"
    }
   ],
   "source": [
    "\n",
    "fig, ax = plt.subplots(1, 1, figsize=(5, 5))\n",
    "sns.heatmap(Jasmine.T, cmap=master_clr, ax=ax, annot=False, square=True, linewidths=1, cbar=False)\n",
    "ax.tick_params(\n",
    "    axis='both',       # changes apply to the x-axis\n",
    "    which='both',      # both major and minor ticks are affected\n",
    "    bottom=False,      # ticks along the bottom edge are off\n",
    "    top=False,         # ticks along the top edge are off\n",
    "    left=False,        # ticks along the left edge are off\n",
    "    right=False,       # ticks along the right edge are off\n",
    "    labelbottom=False, # labels along the bottom edge are off\n",
    "    labelleft=False    # labels along the left edge are off\n",
    ")"
   ]
  },
  {
   "cell_type": "markdown",
   "metadata": {},
   "source": [
    "### 1-0 colormap"
   ]
  },
  {
   "cell_type": "code",
   "execution_count": 120,
   "metadata": {},
   "outputs": [
    {
     "data": {
      "image/png": "[encoded data removed]",
      "text/plain": [
       "<Figure size 500x500 with 1 Axes>"
      ]
     },
     "metadata": {},
     "output_type": "display_data"
    },
    {
     "data": {
      "image/png": "[encoded data removed]",
      "text/plain": [
       "<Figure size 500x500 with 1 Axes>"
      ]
     },
     "metadata": {},
     "output_type": "display_data"
    },
    {
     "data": {
      "image/png": "[encoded data removed]",
      "text/plain": [
       "<Figure size 500x500 with 1 Axes>"
      ]
     },
     "metadata": {},
     "output_type": "display_data"
    }
   ],
   "source": [
    "for (data, color) in [(np.random.rand(FEATURE_SIZE, SAMPLES_SIZE), ArielGreenCMAP), (np.random.rand(FEATURE_SIZE, SAMPLES_SIZE), BelleCMAP), (np.random.rand(FEATURE_SIZE, SAMPLES_SIZE), AuroraPinkCMAP)]:\n",
    "    fig, ax = plt.subplots(1, 1, figsize=(5, 5))\n",
    "    sns.heatmap(data, cmap=color, ax=ax, annot=False, square=True, linewidths=1, cbar=False)\n",
    "    ax.tick_params(\n",
    "        axis='both',       # changes apply to the x-axis\n",
    "        which='both',      # both major and minor ticks are affected\n",
    "        bottom=False,      # ticks along the bottom edge are off\n",
    "        top=False,         # ticks along the top edge are off\n",
    "        left=False,        # ticks along the left edge are off\n",
    "        right=False,       # ticks along the right edge are off\n",
    "        labelbottom=False, # labels along the bottom edge are off\n",
    "        labelleft=False    # labels along the left edge are off\n",
    "    )\n",
    "\n",
    "    fig.tight_layout()\n",
    "    fig.show()\n",
    "\n",
    "    \n",
    "\n"
   ]
  },
  {
   "cell_type": "markdown",
   "metadata": {},
   "source": [
    "# Legacy code\n"
   ]
  },
  {
   "cell_type": "code",
   "execution_count": 121,
   "metadata": {},
   "outputs": [],
   "source": [
    "# fig, ax = plt.subplots(4, 1, figsize=(5, 15))\n",
    "# xlabel = 'Samples'\n",
    "# ylabel = ['mRNA expression', 'miRNA expression', 'DNA methylation', 'Other omics']\n",
    "\n",
    "# sns.heatmap(mRNA.values, cmap=ArielGreenCMAP, ax=ax[0], annot=False, square=True, linewidths=1, cbar=False)\n",
    "# sns.heatmap(miRNA.values, cmap=BelleCMAP, ax=ax[1], annot=False, square=True, linewidths=1, cbar=False)\n",
    "# sns.heatmap(methDNA.values, cmap=AuroraPinkCMAP, ax=ax[2], annot=False, square=True, linewidths=1, cbar=False)\n",
    "# # sns.heatmap(np.zeros((FEATURE_SIZE, SAMPLES_SIZE)), cmap=RapunzelCMAP, ax=ax[3], annot=False, square=True, linewidths=1, cbar=False)\n",
    "# ax[3].text(0.5, 0.5, '...', fontsize=16, ha='center', va='center', color='black')\n",
    "# ax[3].set_frame_on(False)\n",
    "\n",
    "# for idx, axx in enumerate(ax):\n",
    "#     axx.tick_params(\n",
    "#         axis='both',       # changes apply to the x-axis\n",
    "#         which='both',      # both major and minor ticks are affected\n",
    "#         bottom=False,      # ticks along the bottom edge are off\n",
    "#         top=False,         # ticks along the top edge are off\n",
    "#         left=False,        # ticks along the left edge are off\n",
    "#         right=False,       # ticks along the right edge are off\n",
    "#         labelbottom=False, # labels along the bottom edge are off\n",
    "#         labelleft=False    # labels along the left edge are off\n",
    "#     )\n",
    "#     axx.set_xlabel(xlabel, size=16)\n",
    "#     axx.set_ylabel(ylabel[idx], size=16)\n",
    "\n",
    "# # fig.subplots_adjust(hspace=-0.625) \n",
    "# fig.suptitle('Multi-omics Data', size=20)\n",
    "# fig.tight_layout()\n",
    "# fig.show()\n",
    "\n",
    "\n"
   ]
  },
  {
   "cell_type": "code",
   "execution_count": 122,
   "metadata": {},
   "outputs": [],
   "source": [
    "# fig, ax = plt.subplots(1, 1, figsize=(5, 5))\n",
    "# xlabel = 'Samples'\n",
    "# ylabel = ['mRNA expression', 'miRNA expression', 'DNA methylation']\n",
    "\n",
    "# mRNAmiRNA = np.random.randint(2, size=(FEATURE_SIZE, FEATURE_SIZE))\n",
    "# sns.heatmap(mRNAmiRNA, cmap=ArielPurpleCMAP, ax=ax, annot=False, square=True, linewidths=1, cbar=False)\n",
    "\n",
    "# ax.tick_params(\n",
    "#     axis='both',       # changes apply to the x-axis\n",
    "#     which='both',      # both major and minor ticks are affected\n",
    "#     bottom=False,      # ticks along the bottom edge are off\n",
    "#     top=False,         # ticks along the top edge are off\n",
    "#     left=False,        # ticks along the left edge are off\n",
    "#     right=False,       # ticks along the right edge are off\n",
    "#     labelbottom=False, # labels along the bottom edge are off\n",
    "#     labelleft=False    # labels along the left edge are off\n",
    "# )\n",
    "# ax.set_xlabel('miRNA expression', size=16)\n",
    "# ax.set_ylabel('mRNA expression', size=16)\n",
    "\n",
    "# # fig.subplots_adjust(hspace=-0.625) \n",
    "# fig.suptitle('Interaction Network', size=20)\n",
    "# fig.tight_layout()\n",
    "# fig.show()"
   ]
  },
  {
   "cell_type": "code",
   "execution_count": 123,
   "metadata": {},
   "outputs": [],
   "source": [
    "# mRNAcorr = np.random.rand(FEATURE_SIZE, FEATURE_SIZE)\n",
    "# miRAcorr = np.random.rand(FEATURE_SIZE, FEATURE_SIZE)\n",
    "# methDNAcorr = np.random.rand(FEATURE_SIZE, FEATURE_SIZE)\n",
    "# mRNAmethDNA = np.random.rand(FEATURE_SIZE, FEATURE_SIZE)\n",
    "# miRNAmethDNA = np.random.rand(FEATURE_SIZE, FEATURE_SIZE)\n",
    "# methDNAmiRNA = np.random.rand(FEATURE_SIZE, FEATURE_SIZE)"
   ]
  },
  {
   "cell_type": "code",
   "execution_count": 124,
   "metadata": {},
   "outputs": [],
   "source": [
    "# fig, ax = plt.subplots(4, 4, figsize=(8, 8))\n",
    "# xlabels = ['mRNA expression', 'miRNA expression', '...', 'DNA methylation']\n",
    "# ylabels = ['mRNA expression', 'miRNA expression', '...', 'DNA methylation']\n",
    "\n",
    "\n",
    "# sns.heatmap(mRNAcorr, cmap=ArielGreenCMAP, ax=ax[0][0], annot=False, square=True, linewidths=1, cbar=False)\n",
    "# sns.heatmap(miRAcorr, cmap=BelleCMAP,      ax=ax[1][1], annot=False, square=True, linewidths=1, cbar=False)\n",
    "# sns.heatmap(methDNAcorr, cmap=AuroraPinkCMAP, ax=ax[3][3], annot=False, square=True, linewidths=1, cbar=False)\n",
    "# sns.heatmap(mRNAmethDNA, cmap=CinderellaCMAP, ax=ax[0][3], annot=False, square=True, linewidths=1, cbar=False)\n",
    "# sns.heatmap(mRNAmethDNA.T, cmap=CinderellaCMAP, ax=ax[3][0], annot=False, square=True, linewidths=1, cbar=False)\n",
    "# sns.heatmap(miRNAmethDNA, cmap=RapunzelCMAP, ax=ax[1][3], annot=False, square=True, linewidths=1, cbar=False)\n",
    "# sns.heatmap(methDNAmiRNA, cmap=RapunzelCMAP, ax=ax[3][1], annot=False, square=True, linewidths=1, cbar=False)\n",
    "\n",
    "\n",
    "# for i in range(4):\n",
    "#     ax[i][2].text(0.5, 0.5, '...', fontsize=18, ha='center', va='center')\n",
    "#     ax[2][i].text(0.5, 0.5, '...', fontsize=18, ha='center', va='center')\n",
    "#     ax[i][2].set_frame_on(False)\n",
    "#     ax[2][i].set_frame_on(False)\n",
    "# ax[0][1].text(0.5, 0.5, 'Not\\ncalculated', fontsize=18, ha='center', va='center')\n",
    "# ax[1][0].text(0.5, 0.5, 'Not\\ncalculated', fontsize=18, ha='center', va='center')\n",
    "# ax[0][1].set_frame_on(False)\n",
    "# ax[1][0].set_frame_on(False)\n",
    "\n",
    "# # sns.heatmap(mRNAmiRNA, cmap=ArielPurpleCMAP, ax=ax[0][1], annot=False, square=True, linewidths=1, cbar=False)\n",
    "# # sns.heatmap(mRNAmiRNA.T, cmap=ArielPurpleCMAP, ax=ax[1][0], annot=False, square=True, linewidths=1, cbar=False)\n",
    "\n",
    "\n",
    "# for idx, axxx in enumerate(ax):\n",
    "#     for jdx, axx in enumerate(axxx):\n",
    "#         axx.tick_params(\n",
    "#             axis='both',       # changes apply to the x-axis\n",
    "#             which='both',      # both major and minor ticks are affected\n",
    "#             bottom=False,      # ticks along the bottom edge are off\n",
    "#             top=False,         # ticks along the top edge are off\n",
    "#             left=False,        # ticks along the left edge are off\n",
    "#             right=False,       # ticks along the right edge are off\n",
    "#             labelbottom=False, # labels along the bottom edge are off\n",
    "#             labelleft=False,   # labels along the left edge are off\n",
    "#             labelsize=0\n",
    "#         )\n",
    "#         axx.xaxis.set_label_position('top')  \n",
    "#     ax[idx][0].set_ylabel(xlabels[idx], size=11)\n",
    "#     ax[0][idx].set_xlabel(ylabels[idx], size=11)\n",
    "        \n",
    "\n",
    "# # fig.subplots_adjust(hspace=-0.625) \n",
    "# fig.suptitle('Raw Interaction Weight', size=20)\n",
    "# fig.tight_layout()\n",
    "# fig.show()\n",
    "\n"
   ]
  }
 ],
 "metadata": {
  "kernelspec": {
   "display_name": "CrossOmics",
   "language": "python",
   "name": "python3"
  },
  "language_info": {
   "codemirror_mode": {
    "name": "ipython",
    "version": 3
   },
   "file_extension": ".py",
   "mimetype": "text/x-python",
   "name": "python",
   "nbconvert_exporter": "python",
   "pygments_lexer": "ipython3",
   "version": "3.10.12"
  }
 },
 "nbformat": 4,
 "nbformat_minor": 2
}
