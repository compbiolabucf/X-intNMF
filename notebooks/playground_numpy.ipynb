{
 "cells": [
  {
   "cell_type": "code",
   "execution_count": 1,
   "metadata": {},
   "outputs": [
    {
     "name": "stderr",
     "output_type": "stream",
     "text": [
      "2024/11/07 15:33:25 INFO mlflow.tracking._tracking_service.client: 🏃 View run baseline-norm_baseline at: http://127.0.0.1:6969/#/experiments/436914505726212499/runs/0b7f21f1612b4ebe8e709502a9fc8933.\n",
      "2024/11/07 15:33:25 INFO mlflow.tracking._tracking_service.client: 🧪 View experiment at: http://127.0.0.1:6969/#/experiments/436914505726212499.\n"
     ]
    }
   ],
   "source": [
    "# /*==========================================================================================*\\\n",
    "# **                        _           _ _   _     _  _         _                            **\n",
    "# **                       | |__  _   _/ | |_| |__ | || |  _ __ | |__                         **\n",
    "# **                       | '_ \\| | | | | __| '_ \\| || |_| '_ \\| '_ \\                        **\n",
    "# **                       | |_) | |_| | | |_| | | |__   _| | | | | | |                       **\n",
    "# **                       |_.__/ \\__,_|_|\\__|_| |_|  |_| |_| |_|_| |_|                       **\n",
    "# \\*==========================================================================================*/\n",
    "\n",
    "\n",
    "# -----------------------------------------------------------------------------------------------\n",
    "# Author: Bùi Tiến Thành (@bu1th4nh)\n",
    "# Title: playground_numpy.ipynb\n",
    "# Date: 2024/09/22 14:52:56\n",
    "# Description: Testing lab for Numpy and Pandas\n",
    "# \n",
    "# (c) bu1th4nh. All rights reserved\n",
    "# -----------------------------------------------------------------------------------------------\n",
    "\n",
    "\n",
    "import numpy as np\n",
    "import pandas as pd\n",
    "\n",
    "import mlflow\n",
    "\n",
    "\n",
    "mlflow.set_tracking_uri(uri=\"http://127.0.0.1:6969\")\n",
    "mlflow.set_experiment(\"SimilarSampleCrossOmicNMFv3\")\n",
    "\n",
    "\n",
    "with mlflow.start_run(run_id=\"0b7f21f1612b4ebe8e709502a9fc8933\"):\n",
    "    pass\n",
    "\n"
   ]
  },
  {
   "cell_type": "code",
   "execution_count": 2,
   "metadata": {},
   "outputs": [
    {
     "name": "stdout",
     "output_type": "stream",
     "text": [
      "[[1 2 3 4 5]\n",
      " [1 2 3 4 5]\n",
      " [1 2 3 4 5]\n",
      " [1 2 3 4 5]\n",
      " [1 2 3 4 5]]\n",
      "\n",
      "[[0 0 0 0 0]\n",
      " [0 0 0 0 0]\n",
      " [0 0 0 0 0]\n",
      " [0 0 0 0 0]\n",
      " [0 0 0 0 0]]\n",
      "\n",
      "(1, 1)  (1, 2)  (1, 1)  (1, 1)\n",
      "(2, 1)  (2, 2)  (2, 1)  (2, 1)\n",
      "(1, 1)  (1, 2)  (1, 1)  (1, 1)\n",
      "(1, 1)  (1, 2)  (1, 1)  (1, 1)\n",
      "\n",
      "block 1-1\n",
      "[[1]]\n",
      "----\n",
      "block 1-2\n",
      "[[2 3]]\n",
      "----\n",
      "block 1-3\n",
      "[[4]]\n",
      "----\n",
      "block 1-4\n",
      "[[5]]\n",
      "----\n",
      "block 2-1\n",
      "[[1]\n",
      " [1]]\n",
      "----\n",
      "block 2-2\n",
      "[[2 3]\n",
      " [2 3]]\n",
      "----\n",
      "block 2-3\n",
      "[[4]\n",
      " [4]]\n",
      "----\n",
      "block 2-4\n",
      "[[5]\n",
      " [5]]\n",
      "----\n",
      "block 3-1\n",
      "[[1]]\n",
      "----\n",
      "block 3-2\n",
      "[[2 3]]\n",
      "----\n",
      "block 3-3\n",
      "[[4]]\n",
      "----\n",
      "block 3-4\n",
      "[[5]]\n",
      "----\n",
      "block 4-1\n",
      "[[1]]\n",
      "----\n",
      "block 4-2\n",
      "[[2 3]]\n",
      "----\n",
      "block 4-3\n",
      "[[4]]\n",
      "----\n",
      "block 4-4\n",
      "[[5]]\n",
      "----\n"
     ]
    }
   ],
   "source": [
    "Ariel = [\n",
    "    [1, 2, 3, 4, 5],\n",
    "    [1, 2, 3, 4, 5],\n",
    "    [1, 2, 3, 4, 5],\n",
    "    [1, 2, 3, 4, 5],\n",
    "    [1, 2, 3, 4, 5],\n",
    "]\n",
    "\n",
    "\n",
    "size_list = [1, 3, 4]\n",
    "\n",
    "Belle = [\n",
    "    list(np.hsplit(horizontal_block, size_list))\n",
    "    for horizontal_block \n",
    "    in np.vsplit(Ariel, size_list)\n",
    "]\n",
    "\n",
    "\n",
    "print(np.block(Belle))\n",
    "print()\n",
    "print(np.block(Belle) - Ariel)\n",
    "print()\n",
    "for hblk in Belle:\n",
    "    print(\"  \".join(f\"{blk.shape}\" for blk in hblk))\n",
    "print()\n",
    "\n",
    "for i, row in enumerate(Belle):\n",
    "    for j, col in enumerate(row):\n",
    "        print(f\"block {i+1}-{j+1}\")\n",
    "        print(col)\n",
    "        print(\"----\")"
   ]
  },
  {
   "cell_type": "code",
   "execution_count": 3,
   "metadata": {},
   "outputs": [
    {
     "name": "stdout",
     "output_type": "stream",
     "text": [
      "[73  4  2  2  1]\n",
      "[[73  0  0  0  0]\n",
      " [ 0  4  0  0  0]\n",
      " [ 0  0  2  0  0]\n",
      " [ 0  0  0  2  0]\n",
      " [ 0  0  0  0  1]]\n",
      "[[0.11704115 0.         0.         0.         0.        ]\n",
      " [0.         0.5        0.         0.         0.        ]\n",
      " [0.         0.         0.70710678 0.         0.        ]\n",
      " [0.         0.         0.         0.70710678 0.        ]\n",
      " [0.         0.         0.         0.         1.        ]]\n"
     ]
    }
   ],
   "source": [
    "Ariel = [\n",
    "    [1, 69, 1, 1, 1],\n",
    "    [1, 0, 1, 1, 1],\n",
    "    [0, 0, 0, 1, 1],\n",
    "    [1, 0, 0, 0, 1],\n",
    "    [1, 0, 0, 0, 0],\n",
    "]\n",
    "\n",
    "print(np.sum(Ariel, axis=1))\n",
    "print(np.diag(np.sum(Ariel, axis=1)))\n",
    "print(np.diag(1/(np.sqrt(np.sum(Ariel, axis=1)))))"
   ]
  },
  {
   "cell_type": "code",
   "execution_count": 4,
   "metadata": {},
   "outputs": [
    {
     "name": "stdout",
     "output_type": "stream",
     "text": [
      "[[1 2]\n",
      " [4 4]]\n"
     ]
    }
   ],
   "source": [
    "Ariel = [\n",
    "    [1, 69, 1, 1, 1],\n",
    "    [1, 0, np.nan, 1, 1],\n",
    "    [0, 0, 0, 1, 1],\n",
    "    [1, 0, 0, 0, 1],\n",
    "    [1, 0, 0, 0, np.nan],\n",
    "]\n",
    "\n",
    "nan_list = np.argwhere(np.isnan(Ariel))\n",
    "print(nan_list)"
   ]
  },
  {
   "cell_type": "code",
   "execution_count": 5,
   "metadata": {},
   "outputs": [
    {
     "ename": "FileNotFoundError",
     "evalue": "[Errno 2] No such file or directory: '/home/ti514716/Projects/SimilarSampleCrossOmicNMF/crossomic_mini_02.log'",
     "output_type": "error",
     "traceback": [
      "\u001b[0;31m---------------------------------------------------------------------------\u001b[0m",
      "\u001b[0;31mFileNotFoundError\u001b[0m                         Traceback (most recent call last)",
      "Cell \u001b[0;32mIn[5], line 5\u001b[0m\n\u001b[1;32m      1\u001b[0m log_file \u001b[38;5;241m=\u001b[39m \u001b[38;5;124m'\u001b[39m\u001b[38;5;124m/home/ti514716/Projects/SimilarSampleCrossOmicNMF/crossomic_mini_02.log\u001b[39m\u001b[38;5;124m'\u001b[39m\n\u001b[1;32m      4\u001b[0m \u001b[38;5;66;03m# read log file line by line\u001b[39;00m\n\u001b[0;32m----> 5\u001b[0m \u001b[38;5;28;01mwith\u001b[39;00m \u001b[38;5;28;43mopen\u001b[39;49m\u001b[43m(\u001b[49m\u001b[43mlog_file\u001b[49m\u001b[43m,\u001b[49m\u001b[43m \u001b[49m\u001b[38;5;124;43m'\u001b[39;49m\u001b[38;5;124;43mr\u001b[39;49m\u001b[38;5;124;43m'\u001b[39;49m\u001b[43m)\u001b[49m \u001b[38;5;28;01mas\u001b[39;00m f:\n\u001b[1;32m      6\u001b[0m     lines \u001b[38;5;241m=\u001b[39m f\u001b[38;5;241m.\u001b[39mreadlines()\n\u001b[1;32m      7\u001b[0m \u001b[38;5;28mprint\u001b[39m(lines[\u001b[38;5;241m0\u001b[39m])\n",
      "File \u001b[0;32m~/Venvs/CrossOmics/lib/python3.10/site-packages/IPython/core/interactiveshell.py:324\u001b[0m, in \u001b[0;36m_modified_open\u001b[0;34m(file, *args, **kwargs)\u001b[0m\n\u001b[1;32m    317\u001b[0m \u001b[38;5;28;01mif\u001b[39;00m file \u001b[38;5;129;01min\u001b[39;00m {\u001b[38;5;241m0\u001b[39m, \u001b[38;5;241m1\u001b[39m, \u001b[38;5;241m2\u001b[39m}:\n\u001b[1;32m    318\u001b[0m     \u001b[38;5;28;01mraise\u001b[39;00m \u001b[38;5;167;01mValueError\u001b[39;00m(\n\u001b[1;32m    319\u001b[0m         \u001b[38;5;124mf\u001b[39m\u001b[38;5;124m\"\u001b[39m\u001b[38;5;124mIPython won\u001b[39m\u001b[38;5;124m'\u001b[39m\u001b[38;5;124mt let you open fd=\u001b[39m\u001b[38;5;132;01m{\u001b[39;00mfile\u001b[38;5;132;01m}\u001b[39;00m\u001b[38;5;124m by default \u001b[39m\u001b[38;5;124m\"\u001b[39m\n\u001b[1;32m    320\u001b[0m         \u001b[38;5;124m\"\u001b[39m\u001b[38;5;124mas it is likely to crash IPython. If you know what you are doing, \u001b[39m\u001b[38;5;124m\"\u001b[39m\n\u001b[1;32m    321\u001b[0m         \u001b[38;5;124m\"\u001b[39m\u001b[38;5;124myou can use builtins\u001b[39m\u001b[38;5;124m'\u001b[39m\u001b[38;5;124m open.\u001b[39m\u001b[38;5;124m\"\u001b[39m\n\u001b[1;32m    322\u001b[0m     )\n\u001b[0;32m--> 324\u001b[0m \u001b[38;5;28;01mreturn\u001b[39;00m \u001b[43mio_open\u001b[49m\u001b[43m(\u001b[49m\u001b[43mfile\u001b[49m\u001b[43m,\u001b[49m\u001b[43m \u001b[49m\u001b[38;5;241;43m*\u001b[39;49m\u001b[43margs\u001b[49m\u001b[43m,\u001b[49m\u001b[43m \u001b[49m\u001b[38;5;241;43m*\u001b[39;49m\u001b[38;5;241;43m*\u001b[39;49m\u001b[43mkwargs\u001b[49m\u001b[43m)\u001b[49m\n",
      "\u001b[0;31mFileNotFoundError\u001b[0m: [Errno 2] No such file or directory: '/home/ti514716/Projects/SimilarSampleCrossOmicNMF/crossomic_mini_02.log'"
     ]
    }
   ],
   "source": [
    "log_file = '/home/ti514716/Projects/SimilarSampleCrossOmicNMF/crossomic_mini_02.log'\n",
    "\n",
    "\n",
    "# read log file line by line\n",
    "with open(log_file, 'r') as f:\n",
    "    lines = f.readlines()\n",
    "print(lines[0])\n",
    "\n",
    "import re\n",
    "import numpy as np\n",
    "\n",
    "# extract iteration number and loss value\n",
    "losses = []\n",
    "deltas = []\n",
    "for line in lines:\n",
    "    match = re.search(r'Objective function = (\\d+\\.\\d+)', line)\n",
    "    if match:\n",
    "        loss = float(match.group(1))\n",
    "        losses.append(loss)\n",
    "\n",
    "    match = re.search(r'delta =', line)\n",
    "    if match:\n",
    "        delta = float(line.split('delta = ')[-1].split(' ')[0])\n",
    "        deltas.append(delta)\n",
    "losses = np.array(losses)\n",
    "deltas = np.array(deltas)[100:]\n",
    "\n",
    "\n",
    "import matplotlib.pyplot as plt\n",
    "plt.figure(figsize=(20, 5))\n",
    "plt.plot(losses)\n",
    "plt.xlabel('Iteration')\n",
    "plt.ylabel('Loss')\n",
    "plt.title('Loss curve')\n",
    "plt.show()\n",
    "\n",
    "plt.figure(figsize=(20, 5))\n",
    "plt.plot(np.log(np.abs(deltas)), color='red')\n",
    "plt.xlabel('Iteration')\n",
    "plt.ylabel('Delta, log scale (10^x)')\n",
    "plt.title('Changes per iteration for objective function (log scale, absolute value)')\n",
    "plt.show()\n"
   ]
  },
  {
   "cell_type": "code",
   "execution_count": null,
   "metadata": {},
   "outputs": [],
   "source": [
    "import pandas as pd\n",
    "\n",
    "Ariel = pd.read_parquet('/home/ti514716/Projects/SimilarSampleCrossOmicNMF/results/v3/k-10-alpha-100-beta-1-gamma-overridden/classification_result.parquet')\n",
    "Ariel"
   ]
  },
  {
   "cell_type": "code",
   "execution_count": null,
   "metadata": {},
   "outputs": [],
   "source": [
    "import numpy as np\n",
    "\n",
    "\n",
    "X = [\n",
    "    np.array(\n",
    "        [\n",
    "            [1, 2, 3, 4, 5],\n",
    "            [1, 2, 3, 4, 5],\n",
    "            [1, 2, 3, 4, 5],\n",
    "            [1, 2, 3, 4, 5],\n",
    "        ]\n",
    "    ),\n",
    "    np.array(\n",
    "        [\n",
    "            [4, 5, 6, 7, 8],\n",
    "            [4, 5, 6, 7, 8],\n",
    "        ]\n",
    "    ),\n",
    "]\n",
    "\n",
    "H = np.array(\n",
    "    [\n",
    "        [2, 3, 8, 1, 6],\n",
    "        [2, 3, 8, 1, 6],\n",
    "    ]\n",
    ")\n",
    "\n",
    "N = X[0].shape[1]\n",
    "m = [x.shape[0] for x in X]\n",
    "D = len(X)\n",
    "k = 2\n",
    "\n",
    "print(N, m)\n",
    "\n",
    "\n",
    "Cinderella = X[0].flatten(order='F')\n",
    "print(Cinderella)\n",
    "\n",
    "print(Cinderella.reshape((m[0], N), order='F'))"
   ]
  },
  {
   "cell_type": "code",
   "execution_count": null,
   "metadata": {},
   "outputs": [],
   "source": [
    "for d in range(D):\n",
    "    Ariel = X[d].flatten(order='F')\n",
    "    print(Ariel)\n",
    "    print(Ariel.shape)\n",
    "\n",
    "    print()\n",
    "\n",
    "    Belle = np.kron(np.eye(m[d]), H.T)\n",
    "    print(Belle)\n",
    "    print(Belle.shape)\n",
    "\n",
    "\n",
    "    from sklearn.linear_model import LassoCV\n",
    "    lasso = LassoCV().fit(Belle, Ariel)\n",
    "\n",
    "    print()\n",
    "    print(np.array(lasso.coef_).reshape(-1, k))\n",
    "    print()\n",
    "    print(lasso.alphas_.shape)\n",
    "    print()\n",
    "    print()\n"
   ]
  },
  {
   "cell_type": "code",
   "execution_count": null,
   "metadata": {},
   "outputs": [
    {
     "name": "stdout",
     "output_type": "stream",
     "text": [
      "[[1 2]\n",
      " [3 4]\n",
      " [3 6]]\n",
      "[ 7. 12.]\n",
      "[[0.14285714 0.16666667]\n",
      " [0.42857143 0.33333333]\n",
      " [0.42857143 0.5       ]]\n"
     ]
    }
   ],
   "source": [
    "import numpy as np\n",
    "\n",
    "Aurora = np.array([[1, 2], [3, 4], [3, 6]])\n",
    "print(Aurora)\n",
    "\n",
    "print(np.linalg.norm(Aurora, ord=1, axis=0))  # Normalize by column\n",
    "\n",
    "\n",
    "print(Aurora / np.linalg.norm(Aurora, ord=1, axis=0))"
   ]
  },
  {
   "cell_type": "code",
   "execution_count": 13,
   "metadata": {},
   "outputs": [
    {
     "data": {
      "text/plain": [
       "array(2673108349159878)"
      ]
     },
     "execution_count": 13,
     "metadata": {},
     "output_type": "execute_result"
    }
   ],
   "source": [
    "import cupy as cp\n",
    "x = cp.arange(73117828)\n",
    "x.sum(axis=0)\n",
    "\n"
   ]
  }
 ],
 "metadata": {
  "kernelspec": {
   "display_name": "CrossOmics",
   "language": "python",
   "name": "python3"
  },
  "language_info": {
   "codemirror_mode": {
    "name": "ipython",
    "version": 3
   },
   "file_extension": ".py",
   "mimetype": "text/x-python",
   "name": "python",
   "nbconvert_exporter": "python",
   "pygments_lexer": "ipython3",
   "version": "3.10.12"
  }
 },
 "nbformat": 4,
 "nbformat_minor": 2
}
