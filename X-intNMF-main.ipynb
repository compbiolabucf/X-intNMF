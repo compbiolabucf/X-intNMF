{
 "cells": [
  {
   "cell_type": "code",
   "execution_count": null,
   "metadata": {},
   "outputs": [],
   "source": [
    "# /*==========================================================================================*\\\n",
    "# **                        _           _ _   _     _  _         _                            **\n",
    "# **                       | |__  _   _/ | |_| |__ | || |  _ __ | |__                         **\n",
    "# **                       | '_ \\| | | | | __| '_ \\| || |_| '_ \\| '_ \\                        **\n",
    "# **                       | |_) | |_| | | |_| | | |__   _| | | | | | |                       **\n",
    "# **                       |_.__/ \\__,_|_|\\__|_| |_|  |_| |_| |_|_| |_|                       **\n",
    "# \\*==========================================================================================*/\n",
    "\n",
    "\n",
    "# -----------------------------------------------------------------------------------------------\n",
    "# Author: Bùi Tiến Thành - Tien-Thanh Bui (@bu1th4nh)\n",
    "# Title: X-intNMF-main.ipynb\n",
    "# Date: 2025/03/17 16:11:50\n",
    "# Description: \n",
    "# \n",
    "# (c) 2025 bu1th4nh / UCF Computational Biology Lab. All rights reserved. \n",
    "# Written with dedication in the University of Central Florida, EPCOT and the Magic Kingdom.\n",
    "# -----------------------------------------------------------------------------------------------\n",
    "\n",
    "\n",
    "# Libraries\n",
    "import os\n",
    "import sys\n",
    "import logging\n",
    "import numpy as np\n",
    "import pandas as pd\n",
    "from tqdm import tqdm\n",
    "from colorlog import ColoredFormatter\n",
    "from typing import List, Dict, Any, Tuple, Union, Literal\n",
    "\n",
    "# Model\n",
    "from model.crossOmicNMF import XIntNMF\n",
    "\n",
    "# Settings\n",
    "# Logging\n",
    "logging.root.handlers = [];\n",
    "handler_sh = logging.StreamHandler(sys.stdout)\n",
    "handler_sh.setFormatter(\n",
    "    ColoredFormatter(\n",
    "        \"%(cyan)s%(asctime)s.%(msecs)03d %(log_color)s[%(levelname)s]%(reset)s %(light_white)s%(message)s%(reset)s %(blue)s(%(filename)s:%(lineno)d)\",\n",
    "        datefmt  = '%Y/%m/%d %H:%M:%S',\n",
    "        log_colors={\n",
    "            'DEBUG': 'white',\n",
    "            'INFO': 'green',\n",
    "            'WARNING': 'yellow',\n",
    "            'ERROR': 'red',\n",
    "            'CRITICAL': 'red,bg_white',\n",
    "        }\n",
    "    )\n",
    ")\n",
    "logging.basicConfig(\n",
    "    level    = logging.INFO,\n",
    "    handlers = [handler_sh]\n",
    ")"
   ]
  },
  {
   "cell_type": "markdown",
   "metadata": {},
   "source": [
    "# Data Acquisition"
   ]
  },
  {
   "cell_type": "code",
   "execution_count": null,
   "metadata": {},
   "outputs": [],
   "source": [
    "mRNA = pd.read_parquet('sample_processed_data/BRCA_micro_dataset/mRNA.parquet')\n",
    "miRNA = pd.read_parquet('sample_processed_data/BRCA_micro_dataset/miRNA.parquet')\n",
    "DNAMethylation = pd.read_parquet('sample_processed_data/BRCA_micro_dataset/mRNA.parquet')\n",
    "\n",
    "mRNA_miRNA_graph = pd.read_parquet('sample_processed_data/BRCA_micro_dataset/mRNA_miRNA_graph.parquet')"
   ]
  },
  {
   "cell_type": "markdown",
   "metadata": {},
   "source": [
    "# Settings"
   ]
  },
  {
   "cell_type": "code",
   "execution_count": null,
   "metadata": {},
   "outputs": [],
   "source": [
    "k_latent_components = 10\n",
    "alpha_graph_reg = 100\n",
    "beta_omics_factors_sparsity_reg = 100"
   ]
  },
  {
   "cell_type": "markdown",
   "metadata": {},
   "source": [
    "# Model"
   ]
  },
  {
   "cell_type": "code",
   "execution_count": null,
   "metadata": {},
   "outputs": [],
   "source": [
    "model = XIntNMF(\n",
    "    omics_layers = [\n",
    "        mRNA.to_numpy(np.float64, True), \n",
    "        miRNA.to_numpy(np.float64, True), \n",
    "        DNAMethylation.to_numpy(np.float64, True)\n",
    "    ],\n",
    "    cross_omics_interaction = {\n",
    "        (0, 1): mRNA_miRNA_graph.to_numpy(np.float64, True) # 0-1 here is for the relative index of omics_layers list on the input\n",
    "    },\n",
    "    k = k_latent_components,\n",
    "    alpha = alpha_graph_reg,\n",
    "    betas = beta_omics_factors_sparsity_reg,\n",
    "    gammas = 1,\n",
    "    max_iter = 5000,\n",
    "    tol = 1e-4,\n",
    "    verbose = True,\n",
    "    backend = 'numpy'\n",
    ")\n",
    "\n",
    "# Solve\n",
    "Ws, H = model.solve(run_mode='full', use_cross_validation=True)\n",
    "\n",
    "\n",
    "# Post-process\n",
    "sample_list = mRNA.columns\n",
    "omics_features_list = [mRNA.index, miRNA.index, DNAMethylation.index]\n",
    "latent_columns = [f\"Latent_{i:03}\" for i in range(k_latent_components)]\n",
    "\n",
    "\n",
    "# Save the results\n",
    "sample_factor_matrix_H = pd.DataFrame(H, index=latent_columns, columns=sample_list)\n",
    "omics_factor_matrices_Ws = [pd.DataFrame(W, index=omics_features_list[i], columns=latent_columns) for i, W in enumerate(Ws)]\n",
    "\n"
   ]
  }
 ],
 "metadata": {
  "kernelspec": {
   "display_name": "DEF",
   "language": "python",
   "name": "python3"
  },
  "language_info": {
   "codemirror_mode": {
    "name": "ipython",
    "version": 3
   },
   "file_extension": ".py",
   "mimetype": "text/x-python",
   "name": "python",
   "nbconvert_exporter": "python",
   "pygments_lexer": "ipython3",
   "version": "3.11.5"
  }
 },
 "nbformat": 4,
 "nbformat_minor": 2
}
